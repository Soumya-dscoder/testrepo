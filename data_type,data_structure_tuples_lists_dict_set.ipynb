{
 "cells": [
  {
   "cell_type": "code",
   "execution_count": 12,
   "id": "ce5ddc76",
   "metadata": {},
   "outputs": [],
   "source": [
    "string_one='first string'\n",
    "string_two=\"Second string\"\n",
    "string_three=\"\"\"third string\"\"\"  # multiple ways to define a string "
   ]
  },
  {
   "cell_type": "code",
   "execution_count": 11,
   "id": "2061b20b",
   "metadata": {},
   "outputs": [
    {
     "name": "stdout",
     "output_type": "stream",
     "text": [
      "first string\n",
      "Second string\n",
      "third string\n"
     ]
    }
   ],
   "source": [
    "print(string_one)\n",
    "print(string_two)\n",
    "print(string_three)"
   ]
  },
  {
   "cell_type": "code",
   "execution_count": 16,
   "id": "f2cc8e17",
   "metadata": {},
   "outputs": [
    {
     "data": {
      "text/plain": [
       "True"
      ]
     },
     "execution_count": 16,
     "metadata": {},
     "output_type": "execute_result"
    }
   ],
   "source": [
    "num_x= None     # None value type(=0) Case sensitive \n",
    "num_x is None   # boolean data type output (True/False)"
   ]
  },
  {
   "cell_type": "code",
   "execution_count": 15,
   "id": "aa5311ad",
   "metadata": {},
   "outputs": [
    {
     "data": {
      "text/plain": [
       "False"
      ]
     },
     "execution_count": 15,
     "metadata": {},
     "output_type": "execute_result"
    }
   ],
   "source": [
    "num_y= 10\n",
    "num_y is None"
   ]
  },
  {
   "cell_type": "code",
   "execution_count": 17,
   "id": "2c9cadfa",
   "metadata": {},
   "outputs": [
    {
     "data": {
      "text/plain": [
       "3.6459"
      ]
     },
     "execution_count": 17,
     "metadata": {},
     "output_type": "execute_result"
    }
   ],
   "source": [
    "float_number=3.6459\n",
    "float_number"
   ]
  },
  {
   "cell_type": "code",
   "execution_count": 18,
   "id": "9684eb30",
   "metadata": {},
   "outputs": [
    {
     "data": {
      "text/plain": [
       "3"
      ]
     },
     "execution_count": 18,
     "metadata": {},
     "output_type": "execute_result"
    }
   ],
   "source": [
    "int(float_number) # typecasting (from float to integer)"
   ]
  },
  {
   "cell_type": "code",
   "execution_count": 19,
   "id": "b5b903ac",
   "metadata": {},
   "outputs": [
    {
     "data": {
      "text/plain": [
       "'3.6459'"
      ]
     },
     "execution_count": 19,
     "metadata": {},
     "output_type": "execute_result"
    }
   ],
   "source": [
    "str(float_number) # typecasting"
   ]
  },
  {
   "cell_type": "code",
   "execution_count": 20,
   "id": "02e54527",
   "metadata": {},
   "outputs": [],
   "source": [
    "# Creating a tuple\n",
    "first_tuple=(12,'Jack',45.6,'new',(3,2),'test')"
   ]
  },
  {
   "cell_type": "code",
   "execution_count": 21,
   "id": "99775fc2",
   "metadata": {},
   "outputs": [
    {
     "data": {
      "text/plain": [
       "(12, 'Jack', 45.6, 'new', (3, 2), 'test')"
      ]
     },
     "execution_count": 21,
     "metadata": {},
     "output_type": "execute_result"
    }
   ],
   "source": [
    "first_tuple"
   ]
  },
  {
   "cell_type": "code",
   "execution_count": 22,
   "id": "a05f8a87",
   "metadata": {},
   "outputs": [
    {
     "data": {
      "text/plain": [
       "'Jack'"
      ]
     },
     "execution_count": 22,
     "metadata": {},
     "output_type": "execute_result"
    }
   ],
   "source": [
    "first_tuple[1] #index starts from 0.... from left to right and -1 from right tom left"
   ]
  },
  {
   "cell_type": "code",
   "execution_count": 23,
   "id": "08114bde",
   "metadata": {},
   "outputs": [
    {
     "ename": "TypeError",
     "evalue": "'tuple' object does not support item assignment",
     "output_type": "error",
     "traceback": [
      "\u001b[1;31m---------------------------------------------------------------------------\u001b[0m",
      "\u001b[1;31mTypeError\u001b[0m                                 Traceback (most recent call last)",
      "\u001b[1;32m<ipython-input-23-e0191be440ff>\u001b[0m in \u001b[0;36m<module>\u001b[1;34m\u001b[0m\n\u001b[1;32m----> 1\u001b[1;33m \u001b[0mfirst_tuple\u001b[0m\u001b[1;33m[\u001b[0m\u001b[1;36m1\u001b[0m\u001b[1;33m]\u001b[0m\u001b[1;33m=\u001b[0m\u001b[1;34m'Mark'\u001b[0m\u001b[1;33m\u001b[0m\u001b[1;33m\u001b[0m\u001b[0m\n\u001b[0m",
      "\u001b[1;31mTypeError\u001b[0m: 'tuple' object does not support item assignment"
     ]
    }
   ],
   "source": [
    "first_tuple[1]='Mark'  # Tuple is immutable,i.e. can not be modified."
   ]
  },
  {
   "cell_type": "code",
   "execution_count": 24,
   "id": "b4447a5e",
   "metadata": {},
   "outputs": [
    {
     "data": {
      "text/plain": [
       "12"
      ]
     },
     "execution_count": 24,
     "metadata": {},
     "output_type": "execute_result"
    }
   ],
   "source": [
    "first_tuple[0] #accessing tuples from left to right"
   ]
  },
  {
   "cell_type": "code",
   "execution_count": 25,
   "id": "60c921e8",
   "metadata": {},
   "outputs": [
    {
     "data": {
      "text/plain": [
       "'test'"
      ]
     },
     "execution_count": 25,
     "metadata": {},
     "output_type": "execute_result"
    }
   ],
   "source": [
    "first_tuple[-1]  #accessing tuples from right to left"
   ]
  },
  {
   "cell_type": "code",
   "execution_count": 26,
   "id": "d0d8a6ea",
   "metadata": {},
   "outputs": [
    {
     "data": {
      "text/plain": [
       "'test'"
      ]
     },
     "execution_count": 26,
     "metadata": {},
     "output_type": "execute_result"
    }
   ],
   "source": [
    "first_tuple[5] #accessing tuples left to right"
   ]
  },
  {
   "cell_type": "code",
   "execution_count": 27,
   "id": "727e68d0",
   "metadata": {},
   "outputs": [
    {
     "data": {
      "text/plain": [
       "('Jack', 45.6, 'new')"
      ]
     },
     "execution_count": 27,
     "metadata": {},
     "output_type": "execute_result"
    }
   ],
   "source": [
    "#slicing a tuple#\n",
    "first_tuple[1:4]   # [a:b]: a included index, b not included index "
   ]
  },
  {
   "cell_type": "code",
   "execution_count": 28,
   "id": "b882f2e5",
   "metadata": {},
   "outputs": [
    {
     "data": {
      "text/plain": [
       "('Jack', 45.6, 'new')"
      ]
     },
     "execution_count": 28,
     "metadata": {},
     "output_type": "execute_result"
    }
   ],
   "source": [
    "first_tuple[1:-2] # slicing using negative & positive indices both."
   ]
  },
  {
   "cell_type": "code",
   "execution_count": 79,
   "id": "105969ec",
   "metadata": {},
   "outputs": [],
   "source": [
    "# Creating a List\n",
    "first_list=['Mark',101,23.6,'test',None,11]"
   ]
  },
  {
   "cell_type": "code",
   "execution_count": 80,
   "id": "1e58dcaa",
   "metadata": {},
   "outputs": [
    {
     "data": {
      "text/plain": [
       "['Mark', 101, 23.6, 'test', None, 11]"
      ]
     },
     "execution_count": 80,
     "metadata": {},
     "output_type": "execute_result"
    }
   ],
   "source": [
    "first_list"
   ]
  },
  {
   "cell_type": "code",
   "execution_count": 72,
   "id": "c8c2f5dc",
   "metadata": {},
   "outputs": [
    {
     "data": {
      "text/plain": [
       "23.6"
      ]
     },
     "execution_count": 72,
     "metadata": {},
     "output_type": "execute_result"
    }
   ],
   "source": [
    "first_list[2] # Accessing a list"
   ]
  },
  {
   "cell_type": "code",
   "execution_count": 81,
   "id": "f1d88782",
   "metadata": {},
   "outputs": [
    {
     "data": {
      "text/plain": [
       "['Mark', 101, 23.6, 'test', None, 11, 'Jack']"
      ]
     },
     "execution_count": 81,
     "metadata": {},
     "output_type": "execute_result"
    }
   ],
   "source": [
    "first_list.append('Jack') # Adding new items to list\n",
    "first_list"
   ]
  },
  {
   "cell_type": "code",
   "execution_count": 82,
   "id": "8f9df6df",
   "metadata": {},
   "outputs": [
    {
     "data": {
      "text/plain": [
       "[101, 23.6, 'test', None, 11, 'Jack']"
      ]
     },
     "execution_count": 82,
     "metadata": {},
     "output_type": "execute_result"
    }
   ],
   "source": [
    "first_list.remove('Mark') # Removing items\n",
    "first_list"
   ]
  },
  {
   "cell_type": "code",
   "execution_count": 83,
   "id": "8805e926",
   "metadata": {},
   "outputs": [
    {
     "data": {
      "text/plain": [
       "[101, 23.6, None, 11, 'Jack']"
      ]
     },
     "execution_count": 83,
     "metadata": {},
     "output_type": "execute_result"
    }
   ],
   "source": [
    "first_list.pop(2) #removing by index \n",
    "first_list"
   ]
  },
  {
   "cell_type": "code",
   "execution_count": 84,
   "id": "35ada443",
   "metadata": {},
   "outputs": [
    {
     "data": {
      "text/plain": [
       "[101, 'Smith', 23.6, None, 11, 'Jack']"
      ]
     },
     "execution_count": 84,
     "metadata": {},
     "output_type": "execute_result"
    }
   ],
   "source": [
    "first_list.insert(1,'Smith') #inserting item by index\n",
    "first_list"
   ]
  },
  {
   "cell_type": "code",
   "execution_count": 85,
   "id": "25e1e2f2",
   "metadata": {},
   "outputs": [
    {
     "data": {
      "text/plain": [
       "23.6"
      ]
     },
     "execution_count": 85,
     "metadata": {},
     "output_type": "execute_result"
    }
   ],
   "source": [
    "first_list[2] # accessing by positive index"
   ]
  },
  {
   "cell_type": "code",
   "execution_count": 86,
   "id": "f5ec7c40",
   "metadata": {},
   "outputs": [
    {
     "data": {
      "text/plain": [
       "23.6"
      ]
     },
     "execution_count": 86,
     "metadata": {},
     "output_type": "execute_result"
    }
   ],
   "source": [
    "first_list[-4] # accessing by negative index"
   ]
  },
  {
   "cell_type": "code",
   "execution_count": 87,
   "id": "f9c846da",
   "metadata": {},
   "outputs": [
    {
     "data": {
      "text/plain": [
       "['Smith', 23.6, None]"
      ]
     },
     "execution_count": 87,
     "metadata": {},
     "output_type": "execute_result"
    }
   ],
   "source": [
    "first_list[1:4] #slicing by positive indices"
   ]
  },
  {
   "cell_type": "code",
   "execution_count": 88,
   "id": "2ad4d2c8",
   "metadata": {},
   "outputs": [
    {
     "data": {
      "text/plain": [
       "['Smith', 23.6, None]"
      ]
     },
     "execution_count": 88,
     "metadata": {},
     "output_type": "execute_result"
    }
   ],
   "source": [
    "first_list[1:-2] #slicing by negative indices"
   ]
  },
  {
   "cell_type": "code",
   "execution_count": 89,
   "id": "a4876457",
   "metadata": {},
   "outputs": [],
   "source": [
    "# Creating a Dictionary(key:value pairs)\n",
    "first_dict ={'John':'john@abc.com','kelly':'kelly@xyz.org','id':[23,81]}"
   ]
  },
  {
   "cell_type": "code",
   "execution_count": 90,
   "id": "c2e794a6",
   "metadata": {},
   "outputs": [
    {
     "data": {
      "text/plain": [
       "{'John': 'john@abc.com', 'kelly': 'kelly@xyz.org', 'id': [23, 81]}"
      ]
     },
     "execution_count": 90,
     "metadata": {},
     "output_type": "execute_result"
    }
   ],
   "source": [
    "first_dict"
   ]
  },
  {
   "cell_type": "code",
   "execution_count": 91,
   "id": "d9c8b5ee",
   "metadata": {},
   "outputs": [
    {
     "data": {
      "text/plain": [
       "dict_keys(['John', 'kelly', 'id'])"
      ]
     },
     "execution_count": 91,
     "metadata": {},
     "output_type": "execute_result"
    }
   ],
   "source": [
    "first_dict.keys()"
   ]
  },
  {
   "cell_type": "code",
   "execution_count": 92,
   "id": "73114601",
   "metadata": {},
   "outputs": [
    {
     "data": {
      "text/plain": [
       "dict_values(['john@abc.com', 'kelly@xyz.org', [23, 81]])"
      ]
     },
     "execution_count": 92,
     "metadata": {},
     "output_type": "execute_result"
    }
   ],
   "source": [
    "first_dict.values()"
   ]
  },
  {
   "cell_type": "code",
   "execution_count": 93,
   "id": "8c84a1c9",
   "metadata": {},
   "outputs": [
    {
     "data": {
      "text/plain": [
       "'kelly@xyz.org'"
      ]
     },
     "execution_count": 93,
     "metadata": {},
     "output_type": "execute_result"
    }
   ],
   "source": [
    "first_dict['kelly'] # accessing a dictionary by key value"
   ]
  },
  {
   "cell_type": "code",
   "execution_count": 94,
   "id": "5136de39",
   "metadata": {},
   "outputs": [
    {
     "data": {
      "text/plain": [
       "[23, 81]"
      ]
     },
     "execution_count": 94,
     "metadata": {},
     "output_type": "execute_result"
    }
   ],
   "source": [
    "first_dict['id'] "
   ]
  },
  {
   "cell_type": "code",
   "execution_count": 95,
   "id": "c4f498cb",
   "metadata": {},
   "outputs": [],
   "source": [
    "first_dict.update({'id':[32,55]}) # Updating the value associated with a key"
   ]
  },
  {
   "cell_type": "code",
   "execution_count": 96,
   "id": "84692fce",
   "metadata": {},
   "outputs": [
    {
     "data": {
      "text/plain": [
       "{'John': 'john@abc.com', 'kelly': 'kelly@xyz.org', 'id': [32, 55]}"
      ]
     },
     "execution_count": 96,
     "metadata": {},
     "output_type": "execute_result"
    }
   ],
   "source": [
    "first_dict"
   ]
  },
  {
   "cell_type": "code",
   "execution_count": 97,
   "id": "7ac50697",
   "metadata": {},
   "outputs": [],
   "source": [
    "del first_dict['id'] # Deleting a key"
   ]
  },
  {
   "cell_type": "code",
   "execution_count": 98,
   "id": "8c33ffe9",
   "metadata": {},
   "outputs": [
    {
     "data": {
      "text/plain": [
       "{'John': 'john@abc.com', 'kelly': 'kelly@xyz.org'}"
      ]
     },
     "execution_count": 98,
     "metadata": {},
     "output_type": "execute_result"
    }
   ],
   "source": [
    "first_dict"
   ]
  },
  {
   "cell_type": "code",
   "execution_count": 101,
   "id": "eaf40b49",
   "metadata": {},
   "outputs": [],
   "source": [
    "# Creating a set\n",
    "auto_survey = set(['Audi','BMW','BMW','Ferrari','GM','Mercedes','Chevrolet','GM'])"
   ]
  },
  {
   "cell_type": "code",
   "execution_count": 102,
   "id": "fc29f0c4",
   "metadata": {},
   "outputs": [
    {
     "data": {
      "text/plain": [
       "{'Audi', 'BMW', 'Chevrolet', 'Ferrari', 'GM', 'Mercedes'}"
      ]
     },
     "execution_count": 102,
     "metadata": {},
     "output_type": "execute_result"
    }
   ],
   "source": [
    "auto_survey"
   ]
  },
  {
   "cell_type": "code",
   "execution_count": 103,
   "id": "e353869f",
   "metadata": {},
   "outputs": [],
   "source": [
    "# Creating a set\n",
    "auto_survey_set={'Audi','BMW','BMW','Ferrari','GM','Mercedes','Chevrolet','GM'}"
   ]
  },
  {
   "cell_type": "code",
   "execution_count": 104,
   "id": "95739d17",
   "metadata": {},
   "outputs": [
    {
     "data": {
      "text/plain": [
       "set"
      ]
     },
     "execution_count": 104,
     "metadata": {},
     "output_type": "execute_result"
    }
   ],
   "source": [
    "type(auto_survey_set)"
   ]
  },
  {
   "cell_type": "code",
   "execution_count": 105,
   "id": "d0241ed2",
   "metadata": {},
   "outputs": [
    {
     "data": {
      "text/plain": [
       "{'Audi', 'BMW', 'Chevrolet', 'Ferrari', 'GM', 'Mercedes'}"
      ]
     },
     "execution_count": 105,
     "metadata": {},
     "output_type": "execute_result"
    }
   ],
   "source": [
    "auto_survey_set"
   ]
  },
  {
   "cell_type": "code",
   "execution_count": 106,
   "id": "ee8bd012",
   "metadata": {},
   "outputs": [],
   "source": [
    "# Set Operations through Examples\n",
    "auto_survey_1 = set(['Audi','BMW','BMW','Ferrari','GM','Mercedes','Chevrolet','GM','Toyota'])\n",
    "auto_survey_2 = set(['BMW','Ferrari','GM','Hyundai','Kia','Chevrolet','GM','Ford','Toyota','Zen'])"
   ]
  },
  {
   "cell_type": "code",
   "execution_count": 107,
   "id": "a10467af",
   "metadata": {},
   "outputs": [],
   "source": [
    "combined_survey_report = auto_survey_1 | auto_survey_2 # OR-Union set Operation"
   ]
  },
  {
   "cell_type": "code",
   "execution_count": 108,
   "id": "1abb093c",
   "metadata": {},
   "outputs": [
    {
     "data": {
      "text/plain": [
       "{'Audi',\n",
       " 'BMW',\n",
       " 'Chevrolet',\n",
       " 'Ferrari',\n",
       " 'Ford',\n",
       " 'GM',\n",
       " 'Hyundai',\n",
       " 'Kia',\n",
       " 'Mercedes',\n",
       " 'Toyota',\n",
       " 'Zen'}"
      ]
     },
     "execution_count": 108,
     "metadata": {},
     "output_type": "execute_result"
    }
   ],
   "source": [
    "combined_survey_report"
   ]
  },
  {
   "cell_type": "code",
   "execution_count": 109,
   "id": "030373fb",
   "metadata": {},
   "outputs": [],
   "source": [
    "common_survey_report = auto_survey_1 & auto_survey_2 # AND-Intersection set Operation"
   ]
  },
  {
   "cell_type": "code",
   "execution_count": 110,
   "id": "e5f1c28e",
   "metadata": {},
   "outputs": [
    {
     "data": {
      "text/plain": [
       "{'BMW', 'Chevrolet', 'Ferrari', 'GM', 'Toyota'}"
      ]
     },
     "execution_count": 110,
     "metadata": {},
     "output_type": "execute_result"
    }
   ],
   "source": [
    "common_survey_report"
   ]
  },
  {
   "cell_type": "code",
   "execution_count": null,
   "id": "c4f9e2b2",
   "metadata": {},
   "outputs": [],
   "source": []
  }
 ],
 "metadata": {
  "kernelspec": {
   "display_name": "Python 3",
   "language": "python",
   "name": "python3"
  },
  "language_info": {
   "codemirror_mode": {
    "name": "ipython",
    "version": 3
   },
   "file_extension": ".py",
   "mimetype": "text/x-python",
   "name": "python",
   "nbconvert_exporter": "python",
   "pygments_lexer": "ipython3",
   "version": "3.8.8"
  }
 },
 "nbformat": 4,
 "nbformat_minor": 5
}
